{
  "cells": [
    {
      "cell_type": "code",
      "source": [
        "faqs=\"\"\"The sun was shining brightly in the clear blue sky, and a gentle breeze rustled the leaves of the tall trees. People were out enjoying the beautiful weather, some sitting in the park, others taking a leisurely stroll along the riverbank. Children were playing games, and laughter filled the air.\n",
        "\n",
        "As the day turned into evening, the temperature started to drop, and the sky transformed into a canvas of vibrant colors. Families gathered for picnics, and the smell of barbecues wafted through the air. It was a perfect day for a picnic by the lake.\n",
        "\n",
        "In the distance, you could hear the sound of live music coming from a local band, and people began to gather around the stage to enjoy the performance. The atmosphere was electric, and the music had everyone swaying to the beat.\n",
        "\n",
        "As the stars began to twinkle in the night sky, the crowd grew even larger, and the festivities continued well into the night. It was a day filled with joy, laughter, and memories that would last a lifetime.\n",
        "\n",
        "\n",
        "The ancient castle stood on a hill, its towering spires reaching up towards the sky. The castle had a rich history, and its stone walls had witnessed countless battles and royal intrigues. Tourists from all over the world flocked to explore its mysteries.\n",
        "\n",
        "Inside the castle, you could find grand halls adorned with magnificent tapestries and chandeliers. The air was thick with the scent of history, and the creaking of old wooden floors echoed in the corridors. The castle's library housed an impressive collection of books, some dating back centuries.\n",
        "\n",
        "As you ventured further into the castle, you would discover hidden chambers and secret passages. Legends spoke of a hidden treasure buried somewhere within its walls, waiting to be found by a brave adventurer.\n",
        "\n",
        "Outside the castle, a vast moat surrounded it, and a drawbridge provided access to the outside world. Beyond the moat, a lush forest stretched as far as the eye could see, inviting exploration and adventure.\n",
        "\n",
        "The village at the base of the hill relied on the castle for protection and trade. The townspeople were friendly and welcoming, and their stories were filled with folklore and local legends.\n",
        "\n",
        "At night, the castle's windows lit up with a warm, inviting glow, making it look like something out of a fairy tale. It was a place where history and fantasy intertwined, a place where dreams and reality converged.\n",
        "\n",
        "Your RNN model can use this text to predict the next word in a sequence, offering an exciting opportunity for creative text generation and exploration.\n",
        "\n",
        "In the heart of the bustling city, the streets were alive with the sounds of traffic and the chatter of people going about their daily lives. Skyscrapers reached towards the heavens, their glass facades reflecting the vibrant energy of the metropolis.\n",
        "\n",
        "Street vendors sold a variety of goods, from sizzling hot dogs to handmade jewelry. The aroma of freshly brewed coffee wafted from the corner cafes, where patrons sipped their drinks while watching the world go by.\n",
        "\n",
        "Amid the urban chaos, a beautiful park provided a serene escape. Tall trees offered shade, and a tranquil pond was home to ducks and swans. The park's paths were lined with benches where people could sit and read, or simply enjoy the calm in the midst of the urban storm.\n",
        "\n",
        "The city's cultural scene was rich and diverse, with theaters showcasing the latest plays and art galleries displaying works from local and international artists. The symphony orchestra filled the air with music, and museums held treasures from various eras.\n",
        "\n",
        "At night, the city transformed into a sparkling wonderland. Neon signs illuminated the streets, and restaurants buzzed with diners enjoying cuisine from around the world. Nightclubs and bars beckoned those seeking entertainment and a lively atmosphere.\n",
        "\n",
        "In a quaint, picturesque village nestled in a valley between rolling hills, life unfolded at a leisurely pace. The village was a place where time seemed to stand still, where cobblestone streets wound their way through rows of charming cottages adorned with colorful flower boxes.\n",
        "\n",
        "The village square was the heart of the community, featuring a centuries-old oak tree where locals gathered to share stories and laughter. A lively market filled with stalls offering fresh produce, handmade crafts, and artisanal treats was a weekly highlight. Children played tag in the square, and the scent of freshly baked bread filled the air.\n",
        "\n",
        "The local bakery was renowned for its mouthwatering pastries, and the aroma of buttery croissants and cinnamon rolls lured customers from miles away. The baker, an elderly woman with a twinkle in her eye, had passed down her family recipes for generations.\n",
        "\n",
        "Beyond the village, a meandering river sparkled in the sunlight, perfect for lazy summer afternoons of picnicking and swimming. The surrounding meadows were adorned with wildflowers, and the song of birds filled the air.\n",
        "\n",
        "Hiking trails led into the lush forests that surrounded the village, providing opportunities for exploration and solitude. Hidden waterfalls, secret glades, and the occasional glimpse of wildlife awaited those who ventured deeper into the woods.\n",
        "\n",
        "Nights in the village were enchanting, with the stars in the clear sky casting their glow over the cobblestone streets. Local musicians gathered at the village inn to play folk tunes and serenade the guests, while cozy fireplaces warmed the hearts of those who sought refuge from the cool night air.\n",
        "\n",
        "In the vast expanse of the Sahara Desert, the sun blazed relentlessly in the sky, casting a sea of golden dunes as far as the eye could see. The harsh, unforgiving environment was home to a unique and resilient ecosystem, with desert animals and plant life adapted to thrive in this extreme landscape.\n",
        "\n",
        "The Sahara, known for its sweeping sand dunes, concealed hidden oases that were a lifeline for travelers and nomadic tribes. These lush pockets of greenery offered shade and sustenance to those braving the desert's scorching heat.\n",
        "\n",
        "Nomadic Tuareg tribes roamed the desert on camelback, their indigo-dyed turbans and traditional robes providing protection against the elements. These skilled desert navigators knew the secrets of the dunes, their knowledge passed down through generations.\n",
        "\n",
        "At night, the Sahara transformed into a celestial wonderland. The sky was an uninterrupted canvas of stars, and the silence of the desert was only occasionally broken by the call of nocturnal creatures. Campfires flickered, and travelers shared stories under the infinite night sky.\n",
        "\n",
        "Further south, the Sahel region transitioned from the arid Sahara into a savanna teeming with wildlife. Elephants, giraffes, and zebras roamed the plains, while lions and cheetahs stealthily hunted their prey. It was a place of beauty and raw, natural power.\n",
        "\n",
        "The Sahel was also home to diverse cultures, with vibrant markets and lively celebrations. Colorful textiles and handcrafted jewelry told the stories of the people who created them. Traditional drumming and dancing were integral parts of their cultural heritage.\n",
        "\n",
        "Deep in the heart of the Amazon rainforest, a world of enchanting biodiversity unfolded. Towering trees with vast canopies formed a green cathedral that obscured the sun, creating a perpetual twilight on the forest floor. The Amazon was a realm of endless wonders, with millions of species, many of them yet to be discovered.\n",
        "\n",
        "Majestic rivers snaked through the dense vegetation, home to piranhas, electric eels, and pink river dolphins. The lush undergrowth concealed colorful poison dart frogs, while howler monkeys and toucans provided the soundtrack of the jungle.\n",
        "\n",
        "Indigenous tribes, living in harmony with the rainforest for generations, preserved ancient traditions and knowledge. They used natural remedies from the forest's flora to treat ailments and had a deep spiritual connection with their environment.\n",
        "\n",
        "Explorers ventured deep into the Amazon, facing both its beauty and its dangers. Mysterious creatures like the jaguar and the anaconda lurked in the shadows, and the Amazon's diverse birdlife filled the air with their calls and songs.\n",
        "\n",
        "At night, the Amazon buzzed with life. Bioluminescent insects and fireflies illuminated the dark, creating a surreal, glowing world. The night chorus of frogs and insects created an orchestra of sounds, while nocturnal animals like the elusive jaguarundi roamed in search of prey.\n",
        "\n",
        "The Amazon was a place of awe and wonder, teeming with life and secrets waiting to be uncovered. Your RNN model can use this detailed text to predict the next word in sentences, allowing it to generate rich descriptions of the Amazon rainforest and its incredible biodiversity.\n",
        "\n",
        "High in the Himalayan mountains, where the air was thin and frigid, an ancient monastery clung to the edge of a precipitous cliff. The monks who resided there dedicated their lives to meditation, seeking spiritual enlightenment. The monastery was a place of breathtaking natural beauty, with snow-capped peaks, prayer flags fluttering in the wind, and the distant sound of ringing bells.\n",
        "\n",
        "Inside, the walls of the monastery were adorned with intricate murals, depicting the life of the Buddha and the legends of their order. A sense of tranquility and mysticism pervaded the air as the monks chanted and prayed.\n",
        "\n",
        "The Himalayas, a mountain range often referred to as the \"Roof of the World,\" were home to rare and elusive wildlife. Snow leopards, red pandas, and the majestic golden eagles roamed the high-altitude regions. Rhododendron forests added splashes of vibrant color to the otherwise rugged landscape.\n",
        "\n",
        "The local villages, nestled in the valleys, were a testament to human resilience. Their terraced fields produced vital crops, and they traded in yak wool, salt, and other goods. Festivals were celebrated with colorful costumes, lively dances, and traditional music that resonated through the valleys.\n",
        "\n",
        "Hiking trails wound through the Himalayas, attracting adventurers from all corners of the globe. Trekkers followed ancient paths that connected remote villages and provided access to some of the world's most breathtaking views. Prayer wheels spun with each passerby's touch, releasing blessings into the world.\n",
        "\n",
        "As the sun set behind the Himalayan peaks, the skies were painted with hues of orange and pink. The clear, unpolluted air made stargazing a mesmerizing experience. The Milky Way stretched across the heavens, and constellations told stories in the night sky.\n",
        "\n",
        "In the heart of the dense, Amazonian rainforest, an awe-inspiring realm of biodiversity unfolded. Towering trees formed a dense canopy, creating an emerald world beneath where life thrived in countless forms. The Amazon was a place of profound natural wonder, home to millions of species, many of which were yet to be discovered.\n",
        "\n",
        "Majestic rivers, like the Amazon and its tributaries, meandered through the dense vegetation, teeming with exotic creatures. Pink river dolphins, piranhas, and electric eels thrived in the murky waters, while the lush undergrowth hid vibrant poison dart frogs and elusive jaguars prowled through the shadows.\n",
        "\n",
        "Indigenous tribes, whose roots stretched back through generations, inhabited the rainforest. They possessed a deep understanding of the forest's secrets, relying on its resources for their survival. Their knowledge included the use of medicinal plants and a profound spiritual connection with the natural world.\n",
        "\n",
        "Explorers ventured deep into the Amazon, encountering its exquisite beauty and treacherous perils. Mysterious creatures, like the anaconda and harpy eagle, lurked in the wilderness. The cacophony of birdcalls and the resonance of the jungle created an enchanting soundscape.\n",
        "\n",
        "At night, the Amazon's bioluminescent insects and fireflies turned the dark into a surreal dreamscape, where the forest seemed to glow. The chorus of frogs and insects created a mesmerizing symphony, while nocturnal animals, including the elusive ocelot, emerged to hunt.\n",
        "\n",
        "The Amazon was a realm of magic and mystery, a treasure trove of life and enigma waiting to be unraveled. Your RNN model can use this detailed text to predict the next word in sentences, allowing it to generate vivid and evocative descriptions of the Amazon rainforest and its extraordinary biodiversity.\n",
        "\n",
        "On the rugged, wind-swept shores of the Faroe Islands, life unfolded with the resilience and determination of the islanders who called this remote archipelago home. Cliffs rose dramatically from the North Atlantic Ocean, shrouded in mist and battered by the relentless waves. It was a place where nature ruled, where the sea provided sustenance, and the land offered challenges and rewards.\n",
        "\n",
        "In the tiny fishing villages, colorful houses with turf roofs nestled among the hills, providing a stark contrast to the rugged landscape. The locals, known for their tenacity, were masterful seafarers who depended on the ocean's bounty. They weathered storms and treacherous waters to catch fish, puffins, and whales.\n",
        "\n",
        "The Faroe Islands were also a paradise for birdwatchers and naturalists. The sheer cliffs teemed with seabirds, including puffins, guillemots, and kittiwakes, nesting on narrow ledges. The air was filled with the chorus of birdcalls, creating a symphony unique to this remote corner of the world.\n",
        "\n",
        "Explorers ventured to the Faroe Islands, drawn by its untamed beauty. Treacherous hiking trails led to breathtaking vistas, revealing landscapes that seemed otherworldly. Hidden waterfalls cascaded from sheer cliffs, and peaceful lakes nestled among emerald valleys.\n",
        "\n",
        "At night, the islands transformed into a realm of tranquility. The low-hanging clouds parted to reveal a star-studded sky, where the Northern Lights danced in vibrant colors. The villages came alive with the glow of cozy, candlelit pubs where locals shared stories and music.\n",
        "\n",
        "The Faroe Islands were a place of rugged beauty, where human resilience and the forces of nature intertwined. Your RNN model can use this detailed text to predict the next word in sentences, allowing it to generate vivid descriptions of the Faroe Islands and the unique way of life on these remote isles.\n",
        "\n",
        "In the mystical, mist-shrouded valley of Machu Picchu, where ancient ruins nestled amid the Andes, life unfolded with the echoes of the Inca civilization that once thrived there. The stone citadel, perched on a mountaintop, was a testament to human ingenuity and the enchanting beauty of the natural world.\n",
        "\n",
        "Machu Picchu was a place of enigmatic history and breathtaking architecture. Stone terraces cascaded down the mountainside, once used for agriculture, while temples and ceremonial plazas stood as a testament to the spiritual practices of the Inca. The surrounding peaks were sacred to the people who once lived there.\n",
        "\n",
        "Visitors from around the world embarked on treks to reach Machu Picchu, following the ancient Inca Trail that wound through lush cloud forests and across rickety bridges. The journey was an exploration of the senses, as orchids and colorful butterflies adorned the path, and the sound of rushing rivers provided a soothing background melody.\n",
        "\n",
        "Local Quechua people, descendants of the Inca, still inhabited the Andes. They preserved their ancestral traditions and language, and their vibrant textiles and handicrafts told stories of their culture. Festivals celebrated the changing of seasons and the harvest, with colorful parades and music.\n",
        "\n",
        "At night, Machu Picchu was a place of serenity. The Milky Way stretched across the heavens, and the ruins were illuminated by the soft glow of lanterns. Visitors meditated on the terraces, gazing out at the starlit landscape and contemplating the mysteries of this ancient city.\n",
        "\n",
        "Machu Picchu was a sanctuary of history, a place where the past and present intertwined. Your RNN model can use this detailed text to predict the next word in sentences, allowing it to generate evocative descriptions of Machu Picchu and the mystical allure of this ancient site.\n",
        "\n",
        "Deep in the heart of the Icelandic wilderness, where glaciers and volcanoes coexisted, life unfolded amidst the raw power of nature. Rugged lava fields stretched as far as the eye could see, punctuated by geothermal hot springs and bubbling mud pots. It was a land of fire and ice, a place where the elements danced in a mesmerizing symphony.\n",
        "\n",
        "Iceland was a place of epic landscapes and geological wonders. Glaciers carved through mountains, and icebergs drifted in icy lagoons. Geysers shot boiling water and steam into the air, erupting with unceasing regularity. Waterfalls cascaded from immense heights, creating rainbows that seemed to touch the ground.\n",
        "\n",
        "Local Icelanders, known for their Viking heritage, embraced the unforgiving environment with a spirit of resilience. They relied on their land's abundant geothermal energy to heat their homes and power their greenhouses, where they grew vegetables despite the harsh climate. Festivals celebrated the country's Viking history, with traditional sagas and music.\n",
        "\n",
        "Adventurers from around the world journeyed to Iceland, seeking experiences that ranged from ice cave exploration to snorkeling between tectonic plates. Volcanoes like EyjafjallajÃ¶kull captured the world's attention when they erupted, sending ash plumes high into the atmosphere.\n",
        "\n",
        "At night, the Icelandic skies became a canvas for the Northern Lights. These ethereal curtains of light danced in shades of green and pink, captivating those who witnessed the celestial display. In remote cabins and cozy cottages, travelers shared stories while sipping on BrennivÃ­n, the traditional Icelandic schnapps.\n",
        "\n",
        "Iceland was a realm of elemental grandeur, a place where the forces of nature shaped every aspect of life. Your RNN model can use this detailed text to predict the next word in sentences, allowing it to generate vivid and evocative descriptions of Iceland's unique landscapes and the indomitable spirit of its people.\n",
        "\n",
        "In the heart of the mystical Sahara Desert, where endless sand dunes met the horizon, life unfolded in the shadow of the eternal sun. The Sahara was a land of vast, undulating landscapes, where the silence was only occasionally interrupted by the whisper of the wind and the cry of desert wildlife.\n",
        "\n",
        "Nomadic Tuareg tribes, masters of the desert, traversed the shifting sands on their camels. Their indigo-dyed turbans protected them from the relentless sun, and their intricate knowledge of the desert's secrets guided them through this harsh environment. They carried with them a rich oral tradition of stories and legends.\n",
        "\n",
        "Amid the endless expanse of the desert, hidden oasis provided the gift of life. Date palms and other verdant plants offered respite, while ancient villages thrived with centuries-old traditions. Wells were the lifeblood of these settlements, drawing precious water from deep beneath the ground.\n",
        "\n",
        "The Sahara was also home to a remarkable diversity of wildlife. Fennec foxes, meerkats, and sand gazelles adapted to the arid conditions, while desert birds like the Egyptian vulture and the hoopoe soared in the skies. At night, the desert was a realm of nocturnal creatures, including the elusive Saharan cheetah.\n",
        "\n",
        "As the sun dipped below the sand dunes, the Sahara's colors transformed into a breathtaking display. The sky was painted with vivid oranges and purples, and the stars emerged in all their brilliance. It was a place where the celestial beauty of the night sky was unparalleled.\n",
        "\n",
        "The Sahara was a realm of solitude and wonder, where humans and nature coexisted in a delicate balance. Your RNN model can use this descriptive text to predict the next word in sentences, allowing it to generate evocative descriptions of the Sahara Desert and the unique way of life that exists in this arid expanse.\n",
        "\n",
        "In the mystical land of Bhutan, nestled high in the Himalayas, life unfolded with a sense of reverence and ancient wisdom. The Bhutanese people, guided by the principles of Gross National Happiness, cherished their culture and the natural world that surrounded them. It was a place where the pursuit of well-being and harmony with the environment took precedence.\n",
        "\n",
        "Bhutan was a place of pristine natural beauty. Towering peaks, like Gangkhar Puensum, the world's highest unclimbed mountain, loomed over deep valleys. The forests were home to rare creatures like the red panda and snow leopard. Bhutan's lush terraced fields produced vibrant, organic crops, and prayer flags fluttered in the mountain breezes.\n",
        "\n",
        "Local festivals, known as tshechus, celebrated the Bhutanese way of life. Dancers in colorful masks reenacted ancient legends, and the sound of traditional music filled the air. The architecture, with its intricate woodwork and exquisite paintings, reflected the nation's devotion to its unique cultural heritage.\n",
        "\n",
        "Visitors to Bhutan were welcomed with warmth and hospitality, and they embarked on treks along ancient mountain paths. The Jomolhari trek led to remote monasteries and offered breathtaking views of snow-capped peaks. Pilgrims made their way to sacred sites, like the Paro Taktsang Monastery, clinging to cliffs like an eagle's nest.\n",
        "\n",
        "At night, Bhutan was illuminated by the soft glow of butter lamps in temples and monasteries. The air was filled with the scent of incense, and the echoes of chants and prayers resonated. The skies displayed constellations that had guided Bhutanese navigators for centuries.\n",
        "\n",
        "Bhutan was a realm of spiritual harmony and environmental stewardship, where ancient traditions and a focus on happiness coexisted. Your RNN model can use this text to predict the next word in sentences, allowing it to generate evocative descriptions of Bhutan and the unique culture and environment of this Himalayan kingdom.\n",
        "\n",
        "\n",
        "Certainly, here's another unique and extended text passage for your next word predictor project:\n",
        "\n",
        "In the enigmatic wilderness of Madagascar, where biodiversity reached astounding levels, life unfolded in a symphony of colors and species found nowhere else on Earth. The island was a haven for those seeking a deep connection with nature and a glimpse into a world of evolutionary wonders.\n",
        "\n",
        "Madagascar's flora and fauna were like something from a science fiction novel. From the ethereal baobab trees, known as the \"Avenue of the Baobabs,\" to the peculiar-looking lemurs that danced through the treetops, the island was a living laboratory of evolution. The vibrant chameleons changed color to match their surroundings, and the otherworldly aye-aye was a testament to nature's creativity.\n",
        "\n",
        "The Malagasy people, a blend of African, Asian, and Arabian influences, lived in harmony with their unique environment. They celebrated their culture through traditional music, dance, and intricate woodcarvings. Vibrant markets showcased locally crafted textiles, spices, and artisanal goods.\n",
        "\n",
        "Explorers journeyed to Madagascar to witness its otherworldly landscapes. The surreal limestone formations of Tsingy de Bemaraha created a maze of jagged spires. The pristine beaches and coral reefs offered world-class diving and snorkeling experiences.\n",
        "\n",
        "At night, Madagascar was a chorus of nocturnal creatures, including the indri, the largest of the lemurs, with its haunting call. The Malagasy nights were illuminated by the moonlight, and stars filled the sky, making it an ideal destination for stargazing.\n",
        "\n",
        "Madagascar was a realm of evolution's marvels and cultural richness, a place where the natural world unfolded in the most spectacular ways. Your RNN model can use this text to predict the next word in sentences, allowing it to generate immersive descriptions of Madagascar and the extraordinary biodiversity and culture that define this island nation.\n",
        "\n",
        "Note: This is a sample of the 10,000-word dataset. The full dataset will be generated upon confirmation.\n",
        "\n",
        "Headline: Scientists Discover New Species of Deep-Sea Jellyfish\n",
        "\n",
        "Researchers exploring the depths of the Mariana Trench have discovered a new species of jellyfish, unlike any previously known. This bizarre creature, dubbed the 'Glowing Ghost,' possesses several unique features that have left scientists baffled.\n",
        "\n",
        "The Glowing Ghost is completely transparent, with its internal organs visible through its pulsating, bioluminescent skin. It lacks a mouth and digestive system, suggesting it may rely on a symbiotic relationship with other organisms for sustenance. Additionally, the Glowing Ghost possesses a complex network of sensory organs, hinting at a highly developed nervous system.\n",
        "\n",
        "\"This discovery is truly groundbreaking,\" states Dr. Anya Sharma, lead researcher on the expedition. \"The Glowing Ghost represents a completely new branch of the jellyfish family tree and sheds light on the incredible diversity of life in the deep sea.\"\n",
        "\n",
        "Further analysis of the Glowing Ghost is underway, with researchers hoping to unlock the secrets of its unique biology. This discovery has the potential to revolutionize our understanding of marine ecosystems and the evolution of life on Earth.\n",
        "\n",
        "Headline: World Leaders Gather for Climate Change Summit\n",
        "\n",
        "Amidst growing concerns about climate change, world leaders from over 200 nations convened in Paris for a crucial summit aimed at addressing the global crisis. The summit seeks to establish a legally binding agreement to reduce greenhouse gas emissions and limit the rise in global temperature.\n",
        "\n",
        "The stakes are high, as scientists warn of catastrophic consequences if we fail to take action. Rising sea levels, extreme weather events, and mass extinctions are just some of the potential threats posed by climate change.\n",
        "\n",
        "The summit is expected to be a major test of international cooperation. While many nations have expressed a commitment to tackling climate change, significant differences remain regarding specific emission reduction targets and financial support for developing countries.\n",
        "\n",
        "Only time will tell whether the Paris summit will succeed in forging a global agreement capable of curbing climate change. The future of our planet hangs in the balance.\n",
        "\n",
        "Headline: AI Researchers Develop Algorithm for Predicting Crime\n",
        "\n",
        "Researchers at MIT have developed a new artificial intelligence (AI) algorithm capable of predicting crime with remarkable accuracy. The algorithm analyzes data from various sources, including social media, police reports, and weather patterns, to identify areas with a high risk of crime.\n",
        "\n",
        "This technology has the potential to revolutionize crime prevention efforts. By identifying potential crime hotspots, police can allocate resources more effectively and proactively intervene before crimes occur.\n",
        "\n",
        "However, concerns have been raised about the potential for bias and discrimination in the use of AI-powered crime prediction. Critics argue that the algorithm may unfairly target certain communities based on historical data patterns.\n",
        "\n",
        "The developers of the algorithm insist that it is designed to be unbiased and impartial. Nevertheless, they acknowledge the need for careful implementation and ongoing monitoring to ensure that this powerful technology is used responsibly.\n",
        "\n",
        "Headline: New Study Links Processed Food Consumption to Increased Cancer Risk\n",
        "\n",
        "A new study published in the Journal of the American Medical Association has found a strong link between the consumption of processed food and an increased risk of cancer.\n",
        "\n",
        "The study followed over 100,000 participants for a period of 20 years, tracking their dietary habits and cancer diagnoses. The researchers found that individuals who consumed the highest levels of processed food were twice as likely to develop cancer compared to those who consumed the least.\n",
        "\n",
        "Processed foods are often high in unhealthy fats, sodium, and sugar, all of which have been linked to an increased risk of chronic diseases, including cancer.\n",
        "\n",
        "This study adds to the growing body of evidence suggesting that a healthy diet is essential for reducing the risk of cancer and other diseases. Experts recommend a diet rich in fruits, vegetables, and whole grains, while limiting the intake of processed foods.\n",
        "\n",
        "Headline: Social Media Platforms Crack Down on Misinformation and Hate Speech\n",
        "\n",
        "In response to growing concerns about the spread of misinformation and hate speech on their platforms, social media giants Facebook and Twitter have announced new measures to address the issue.\n",
        "\n",
        "These measures include improved fact-checking algorithms, stricter content moderation policies, and increased transparency about how content is promoted on their platforms.\n",
        "\n",
        "The move comes amid mounting pressure from governments and civil society groups to hold social media platforms accountable for the content they host.\n",
        "\n",
        "While the effectiveness of these measures remains to be seen, they represent a significant step forward in the fight against online misinformation and hate speech.\n",
        "\n",
        "This sample provides a glimpse into the 10,000-word dataset focusing on news articles. If you would like to proceed with generating the complete dataset, please confirm.\n",
        "\n",
        "Note: This is a sample of the 10,000-word dataset. The full dataset will be generated upon confirmation.\n",
        "\n",
        "Headline: Quantum Computing Breakthrough Paves Way for New Era of Innovation\n",
        "\n",
        "Researchers at Google AI have achieved a major breakthrough in quantum computing, successfully demonstrating quantum supremacy for the first time. This landmark achievement represents a significant leap forward in the development of this nascent technology and paves the way for a new era of innovation.\n",
        "\n",
        "Quantum computers harness the principles of quantum mechanics to perform calculations far beyond the capabilities of even the most powerful classical computers. This has the potential to revolutionize fields like cryptography, materials science, and artificial intelligence.\n",
        "\n",
        "The Google AI team's breakthrough involved using a 53-qubit quantum processor to perform a specific task that would take a classical computer billions of years to complete. This demonstrates the immense potential of quantum computing to solve complex problems that are currently intractable.\n",
        "\n",
        "Headline: AI-Powered Chatbot Passes Turing Test, Raises Ethical Concerns\n",
        "\n",
        "A new AI-powered chatbot developed by OpenAI has reportedly passed the Turing test, a benchmark designed to assess whether a machine can exhibit intelligent behavior equivalent to a human. This raises significant ethical concerns about the potential for AI to deceive and manipulate humans.\n",
        "\n",
        "The chatbot, named Bard, was able to engage in extended conversations with humans on a variety of topics, indistinguishably from a real person. This raises concerns about the potential for malicious actors to use AI to spread misinformation and propaganda.\n",
        "\n",
        "Experts are calling for the development of ethical guidelines and regulations for the development and use of AI. They argue that it is essential to ensure that AI is used for good and not for harm.\n",
        "\n",
        "Headline: Elon Musk Unveils Neuralink Brain-Computer Interface Technology\n",
        "\n",
        "Elon Musk's Neuralink has unveiled its latest brain-computer interface (BCI) technology, which promises to revolutionize the way humans interact with computers. The Neuralink device is a tiny chip implanted in the brain that allows users to control external devices and access information directly through their thoughts.\n",
        "\n",
        "The potential applications of this technology are vast. It could be used to restore lost limbs, cure neurological diseases, and even enhance human intelligence. However, there are also significant risks associated with BCI technology, such as privacy concerns and the potential for misuse.\n",
        "\n",
        "Headline: Tech Giants Face Antitrust Scrutiny Amid Concerns About Market Dominance\n",
        "\n",
        "Tech giants like Google, Facebook, and Amazon are facing increasing antitrust scrutiny from regulators around the world. Concerns are growing about the dominance of these companies and their potential to stifle competition and innovation.\n",
        "\n",
        "Regulators are investigating allegations that these tech giants have engaged in anti-competitive practices, such as self-preferencing and predatory pricing. If found guilty, they could face hefty fines and forced changes to their business practices.\n",
        "\n",
        "The outcome of these investigations could have significant implications for the future of the tech industry. They could lead to a more fragmented tech landscape, with smaller companies having a greater chance of success.\n",
        "\n",
        "Headline: Cybersecurity Threats on the Rise, Experts Urge Increased Vigilance\n",
        "\n",
        "The number of cybersecurity threats is on the rise, posing a significant risk to businesses and individuals alike. Experts are urging greater vigilance and the adoption of robust cybersecurity measures to protect against these threats.\n",
        "\n",
        "Cybercriminals are constantly developing new and sophisticated techniques for attacking computer systems. These attacks can result in data breaches, financial losses, and reputational damage.\n",
        "\n",
        "Businesses and individuals need to take steps to protect themselves from cybersecurity threats. This includes implementing strong passwords, using encryption, and backing up data regularly.\n",
        "\n",
        "\n",
        "Tech News Dataset (10,000 words continued)\n",
        "Headline: Open-Source Programming Language Rust Gains Popularity Among Developers\n",
        "\n",
        "The open-source programming language Rust is rapidly gaining popularity among developers due to its unique combination of speed, memory safety, and expressiveness. Rust is particularly well-suited for developing system-level software, such as operating systems and embedded systems.\n",
        "\n",
        "Several factors contribute to Rust's growing popularity. First, its strong emphasis on memory safety eliminates the risk of memory leaks and other vulnerabilities that can plague C and C++ programs. Second, Rust's compiler is extremely fast, producing code that is often as fast as C or C++ code. Finally, Rust's syntax is expressive and easy to learn, making it a good choice for developers of all experience levels.\n",
        "\n",
        "As Rust's popularity continues to grow, we can expect to see it used in an increasingly wide range of applications. This could lead to the development of more secure and reliable software that pushes the boundaries of what is possible.\n",
        "\n",
        "Headline: Ethical Concerns Surround the Development of Autonomous Weapons\n",
        "\n",
        "The development of autonomous weapons, also known as killer robots, has raised significant ethical concerns. These weapons are capable of selecting and engaging targets without human intervention, raising concerns about accountability and the potential for misuse.\n",
        "\n",
        "Experts argue that autonomous weapons could lead to a new arms race and make it more difficult to resolve conflicts peacefully. They also worry that these weapons could fall into the wrong hands and be used to commit atrocities.\n",
        "\n",
        "International calls are growing for a ban on autonomous weapons before it's too late. The United Nations is currently considering a treaty that would prohibit the development, production, and use of these weapons.\n",
        "\n",
        "Headline: 5G Technology Revolutionizes Mobile Communication\n",
        "\n",
        "The rollout of 5G technology is revolutionizing mobile communication, offering significantly faster data speeds, lower latency, and greater network capacity. This has the potential to transform how we live and work.\n",
        "\n",
        "With 5G, users can download large files in seconds, stream high-definition videos without buffering, and experience more immersive gaming and virtual reality applications. Businesses can also benefit from 5G by using it to connect sensors and machines in the Internet of Things (IoT), leading to increased efficiency and productivity.\n",
        "\n",
        "However, the rollout of 5G has also faced challenges. Concerns have been raised about the potential health risks of exposure to 5G radiation, and some countries have delayed the rollout due to security concerns.\n",
        "\n",
        "Headline: Data Privacy Concerns Mount as Facial Recognition Technology Advances\n",
        "\n",
        "Facial recognition technology is becoming increasingly sophisticated, raising concerns about data privacy and the potential for misuse. This technology can be used to identify individuals in real-time, raising concerns about mass surveillance and the erosion of individual privacy.\n",
        "\n",
        "There are several potential dangers associated with the widespread use of facial recognition technology. First, it could be used to track individuals without their knowledge or consent. Second, it could be used to discriminate against individuals based on their race, gender, or other personal characteristics. Third, it could be used to restrict freedom of speech and assembly.\n",
        "\n",
        "Governments and businesses need to take steps to protect individual privacy in the age of facial recognition technology. This includes developing clear regulations on the use of this technology and ensuring that it is used responsibly and ethically.\n",
        "\n",
        "Headline: Tech Industry Pledges to Address Climate Change Concerns\n",
        "\n",
        "The tech industry is facing increasing pressure to address its environmental impact. Concerns are growing about the energy consumption of data centers and the electronic waste generated by the constant turnover of tech devices.\n",
        "\n",
        "Several tech companies have pledged to reduce their environmental impact. For example, Apple has committed to using 100% renewable energy in its operations by 2030. And Google has pledged to achieve net-zero carbon emissions by 2030.\n",
        "\n",
        "These pledges are a step in the right direction, but more needs to be done to address the environmental impact of the tech industry. The industry needs to invest in renewable energy sources, develop more sustainable products, and find ways to reduce electronic waste.\n",
        "\n",
        "This is just a sample of the 10,000-word dataset focusing on tech news. The complete dataset is now ready for download.\n",
        "\n",
        "Please let me know if you have any other requests or would like me to generate datasets for different domains or lengths. I am happy to assist you further with your project.\n",
        "\n",
        "In a world dominated by digital technology and instant gratification, many argue that the traditional art of reading is dying. However, books continue to offer a unique and powerful experience that cannot be replicated by any other medium.\n",
        "\n",
        "Reading allows us to escape from the everyday world and immerse ourselves in different cultures, times, and perspectives. It helps us to develop our imagination, empathy, and critical thinking skills. And it can even provide comfort and solace during difficult times.\n",
        "\n",
        "The benefits of reading are not just anecdotal. Numerous studies have shown that regular reading can improve cognitive function, reduce stress, and boost mental well-being. It can also help to build vocabulary, improve communication skills, and promote a lifelong love of learning.\n",
        "\n",
        "In today's fast-paced world, it is more important than ever to make time for reading. Whether it's a classic novel, a thrilling mystery, or a thought-provoking non-fiction book, there's a book out there for everyone. So put down your phone, pick up a book, and rediscover the magic of reading.\n",
        "\n",
        "Headline: The Rise of BookTok: How Social Media is Fueling a Reading Renaissance\n",
        "\n",
        "A new trend on the social media platform TikTok is causing a surge in book sales and sparking a renewed interest in reading among young people. BookTok creators are using the platform to share their love of books through engaging videos, reviews, and recommendations.\n",
        "\n",
        "This trend is having a significant impact on the publishing industry, with many books seeing a spike in sales after being featured on BookTok. It is also encouraging young people to discover the joy of reading and engaging with literature in a new way.\n",
        "\n",
        "The success of BookTok shows the power of social media to promote positive trends and encourage people to explore their interests. It is also a testament to the enduring appeal of books and the timeless power of stories.\n",
        "\n",
        "Headline: Lost Literary Treasures: Unearthing Forgotten Stories from History\n",
        "\n",
        "The world of literature is vast and constantly evolving. However, there are countless stories that have been lost to time, forgotten in dusty archives or hidden in private collections. In recent years, there has been a growing movement to rediscover and celebrate these lost literary treasures.\n",
        "\n",
        "Scholars and researchers are working tirelessly to unearth these forgotten stories and share them with the world. This involves painstaking work of transcribing ancient texts, translating languages, and piecing together fragments of stories.\n",
        "\n",
        "The rediscovery of lost literary treasures can offer valuable insights into past cultures, societies, and individual lives. It can also enrich our understanding of the history of literature and the development of storytelling.\n",
        "\n",
        "Headline: The Future of Reading: New Technologies and Innovative Storytelling Formats\n",
        "\n",
        "The way we read is constantly evolving. New technologies and innovative storytelling formats are emerging, challenging traditional notions of what a book can be. From digital ebooks and audiobooks to interactive stories and immersive virtual reality experiences, the possibilities are endless.\n",
        "\n",
        "These new technologies offer exciting opportunities for writers, publishers, and readers alike. They can make reading more accessible, engaging, and interactive. They can also help to reach new audiences and expose them to the power of stories.\n",
        "\n",
        "However, the rise of new technologies also raises questions about the future of the traditional book. Will physical books become obsolete? Will the act of reading itself change dramatically?\n",
        "\n",
        "Only time will tell what the future holds for reading. But one thing is certain: stories will continue to captivate and inspire us, regardless of the format in which they are presented.\n",
        "\n",
        "Headline: The Importance of Libraries: Preserving the Past and Inspiring the Future\n",
        "\n",
        "Libraries are more than just repositories of books. They are community centers, learning hubs, and cultural institutions that play a vital role in our society. Libraries provide access to information and resources, promote literacy and education, and offer a space for people to connect and learn.\n",
        "\n",
        "In today's digital age, libraries are more important than ever. They offer free access to computers and the internet, providing essential resources for those who may not have access at home. They also host a variety of programs and events, such as book clubs, author readings, and writing workshops, that enrich the lives of individuals and communities.\n",
        "\n",
        "The future of libraries depends on our continued support. We need to advocate for adequate funding and resources for libraries, as well as encourage people to visit and utilize their services. By doing so, we can ensure that libraries continue to thrive and serve their communities for generations to come.\n",
        "\n",
        " Headline: The Alchemist by Paulo Coelho - A Journey of Self-Discovery\n",
        "\n",
        "The Alchemist, by Paulo Coelho, tells the story of Santiago, a shepherd who embarks on a journey to fulfill his personal legend. Guided by a recurring dream and the wisdom of a wise old king, Santiago travels from Spain to the pyramids of Egypt, facing challenges and obstacles along the way.\n",
        "\n",
        "The book explores themes of self-discovery, pursuing dreams, and the importance of listening to one's intuition. It delves into the concept of personal legend, the unique path that each individual is destined to follow.\n",
        "\n",
        "The Alchemist has resonated with millions of readers around the world, offering inspiration and guidance for those seeking to find their own personal legend.\n",
        "\n",
        "Headline: To Kill a Mockingbird by Harper Lee - A Timeless Tale of Innocence and Prejudice\n",
        "\n",
        "To Kill a Mockingbird, by Harper Lee, is considered a classic of American literature. Set in the Deep South during the Great Depression, the story follows Scout Finch, a young girl who witnesses firsthand the racial injustices of her time.\n",
        "\n",
        "The narrative explores themes of prejudice, tolerance, and the importance of standing up for what is right. It delves into the complex social dynamics of the segregated South, offering a poignant commentary on human nature.\n",
        "\n",
        "To Kill a Mockingbird remains a relevant and powerful story, reminding readers of the importance of fighting against injustice and discrimination.\n",
        "\n",
        "Headline: The Lord of the Rings by J.R.R. Tolkien - An Epic Adventure of Good vs. Evil\n",
        "\n",
        "The Lord of the Rings, by J.R.R. Tolkien, is a sprawling fantasy epic that has captured the imaginations of readers for generations. Set in the fictional world of Middle-earth, the story follows a fellowship of hobbits, elves, dwarves, and men as they embark on a perilous quest to destroy the One Ring, an evil artifact created by the Dark Lord Sauron.\n",
        "\n",
        "The book is renowned for its rich world-building, intricate characters, and thrilling plot. It explores themes of courage, friendship, and the struggle between good and evil.\n",
        "\n",
        "The Lord of the Rings remains a cornerstone of fantasy literature, inspiring countless adaptations and continuing to enthrall readers with its timeless story.\n",
        "\n",
        "Headline: Pride and Prejudice by Jane Austen - A Witty Social Satire and Romantic Comedy\n",
        "\n",
        "Pride and Prejudice, by Jane Austen, is a witty and insightful social satire set in 19th century England. The story follows Elizabeth Bennet, a spirited young woman who must navigate the complexities of society and choose between several suitors.\n",
        "\n",
        "The book is renowned for its sharp observations of human behavior, witty dialogue, and captivating love story. It explores themes of social class, gender roles, and the importance of judging individuals based on their character rather than their social standing.\n",
        "\n",
        "Pride and Prejudice remains a beloved classic, offering humor, romance, and social commentary that continues to resonate with readers today.\n",
        "\n",
        "Headline: One Hundred Years of Solitude by Gabriel GarcÃ­a MÃ¡rquez - A Magical Realist Masterpiece\n",
        "\n",
        "One Hundred Years of Solitude, by Gabriel GarcÃ­a MÃ¡rquez, is a masterpiece of magical realism that tells the story of the BuendÃ­a family over seven generations. Set in the fictional town of Macondo, the story blends fantastical elements with historical and political realities.\n",
        "\n",
        "The book is renowned for its rich narrative tapestry, vivid characters, and unforgettable imagery. It explores themes of family, love, loss, and the cyclical nature of history.\n",
        "\n",
        "One Hundred Years of Solitude remains a landmark work of Latin American literature, captivating readers with its unique blend of magic and reality\n",
        "\n",
        "In the heart of the Amazon rainforest, hidden beneath a dense canopy of leaves, lies a lost city known only as Z. For centuries, rumors of this city have captivated explorers and adventurers, but its exact location has remained a mystery.\n",
        "\n",
        "One such explorer is Dr. Henry Costin, a brilliant but eccentric archaeologist who believes that Z is not just a myth but a real place with a rich history and culture. Driven by his obsession, Costin embarks on a perilous journey into the Amazon, determined to find the lost city and uncover its secrets.\n",
        "\n",
        "Accompanied by a small team of guides and porters, Costin faces numerous challenges along the way. They battle the harsh elements of the rainforest, encounter dangerous wildlife, and navigate through treacherous terrain. They also face suspicion and hostility from local tribes who are wary of outsiders and their motives.\n",
        "\n",
        "Despite the hardships, Costin's determination never wavers. He uses his knowledge of history and archaeology to decipher clues left behind by ancient civilizations, slowly piecing together the puzzle of Z's location.\n",
        "\n",
        "After weeks of searching, Costin's team finally stumbles upon a hidden valley shrouded in mist. As the mist clears, they are astonished to see the ruins of a magnificent city sprawled before them. This is Z, and it is even more magnificent than they ever imagined.\n",
        "\n",
        "As Costin explores the city, he discovers evidence of a highly advanced civilization that existed long before the arrival of the Europeans. He finds elaborate temples, palaces, and public works, all constructed with impressive skill and precision. He also discovers a wealth of artifacts and artwork, which shed light on the culture and beliefs of the people who once lived in Z.\n",
        "\n",
        "Costin's discovery is a major breakthrough in the field of archaeology. It rewrites our understanding of history and provides us with new insights into the development of human civilization. It also raises new questions about the fate of the people who lived in Z and why their city was abandoned.\n",
        "\n",
        "Costin's story is a testament to the power of human curiosity and the unwavering pursuit of knowledge. It is a reminder that there are still many mysteries waiting to be discovered in our world, and that exploration and adventure can lead us to incredible places and uncover the secrets of the past.\n",
        "\n",
        "\n",
        "\n",
        "Daily Life Conversation: Coffee Shop Encounter\n",
        "Setting: A cozy coffee shop in the afternoon. The warm aroma of coffee beans fills the air as sunlight streams through the windows.\n",
        "\n",
        "Characters:\n",
        "\n",
        "Sarah: A young professional, dressed in business attire, working on her laptop.\n",
        "Mark: An elderly gentleman, reading a book and sipping coffee.\n",
        "Sarah: (Sighs deeply, rubbing her tired eyes) Ugh, this report is never going to finish itself.\n",
        "\n",
        "Mark: (Looks up from his book with a smile) Rough day?\n",
        "\n",
        "Sarah: (Startled, looks up) Oh, I didn't see you there. Yeah, it's been one of those days. Deadlines, meetings, the whole shebang.\n",
        "\n",
        "Mark: I remember those days. The corporate grind can be a real beast.\n",
        "\n",
        "Sarah: You seem to be enjoying yours. The book, the coffee, the calmnessâ€¦ it's all very enviable.\n",
        "\n",
        "Mark: (Chuckles) It has its perks. Retirement isn't all it's cracked up to be, but I do enjoy the simple things now.\n",
        "\n",
        "Sarah: Simple things? Like reading a book in a coffee shop?\n",
        "\n",
        "Mark: Exactly. It's the little moments that we often miss amidst the rush of everyday life. The smell of freshly brewed coffee, the feel of turning a page, the chance encounter with a strangerâ€¦\n",
        "\n",
        "Sarah: (Thinks for a moment) You know, you're right. I've been so focused on getting ahead that I've forgotten to appreciate the little things.\n",
        "\n",
        "Mark: We all get caught up in the rat race sometimes. But it's important to take a step back and remind ourselves what truly matters.\n",
        "\n",
        "Sarah: I think I needed to hear that. Thank you.\n",
        "\n",
        "Mark: You're welcome, young lady. Now, how about another cup of coffee? It's on me.\n",
        "\n",
        "Sarah: (Smiling) I'd love that. And maybe, just maybe, I can focus on the book instead of the report for a while.\n",
        "\n",
        "Mark: (Nods) That's the spirit. Remember, life is a journey, not a race. So take your time, smell the coffee beans, and enjoy the ride.\n",
        "\n",
        "Sarah: I will. Thank you again for everything.\n",
        "\n",
        "Mark: (Gestures to the book) By the way, if you ever want to escape from the corporate world for a while, this book is a great place to start.\n",
        "\n",
        "Sarah: (Takes the book) I'll definitely give it a try. Thank you for the recommendation.\n",
        "\"\"\""
      ],
      "metadata": {
        "id": "lWav_Cs5RlBP"
      },
      "execution_count": 50,
      "outputs": []
    },
    {
      "cell_type": "code",
      "source": [
        "#Tokenizer-> ye har ek unique word ko number provide karta hai\n",
        "import tensorflow as tf\n",
        "from tensorflow.keras.preprocessing.text import Tokenizer"
      ],
      "metadata": {
        "id": "6gek4E-BMyyz"
      },
      "execution_count": 51,
      "outputs": []
    },
    {
      "cell_type": "code",
      "source": [
        "tokenizer=Tokenizer()\n",
        "tokenizer.fit_on_texts([faqs])"
      ],
      "metadata": {
        "id": "E7lhNbhZNnhq"
      },
      "execution_count": 52,
      "outputs": []
    },
    {
      "cell_type": "code",
      "source": [
        "#Now dekhna ki kon sa word ko kon sa number mila hai\n",
        "len(tokenizer.word_index)"
      ],
      "metadata": {
        "colab": {
          "base_uri": "https://localhost:8080/"
        },
        "id": "VivA9Xg4N3VL",
        "outputId": "be1a767a-f7d1-4af8-afad-d05608bcd5db"
      },
      "execution_count": 53,
      "outputs": [
        {
          "output_type": "execute_result",
          "data": {
            "text/plain": [
              "2396"
            ]
          },
          "metadata": {},
          "execution_count": 53
        }
      ]
    },
    {
      "cell_type": "code",
      "source": [
        "#Now extract all Sentence from faqs and Number provide karwna\n",
        "input_sequences=[]\n",
        "for sentence in faqs.split(\".\"):\n",
        "  tokenized_sentence =tokenizer.texts_to_sequences([sentence])[0] #[0]->double list create ho gya tha usko single me laya gya\n",
        "  for i in range(1,len(tokenized_sentence)):\n",
        "    input_sequences.append(tokenized_sentence[:i+1])"
      ],
      "metadata": {
        "id": "3qmKe9fLOJD4"
      },
      "execution_count": 54,
      "outputs": []
    },
    {
      "cell_type": "code",
      "source": [
        "max_len = max([len(x) for x in input_sequences])"
      ],
      "metadata": {
        "id": "qL32W-uDUuje"
      },
      "execution_count": 55,
      "outputs": []
    },
    {
      "cell_type": "code",
      "source": [
        "from tensorflow.keras.preprocessing.sequence import pad_sequences\n",
        "padded_input_sequences = pad_sequences(input_sequences, maxlen = max_len, padding='pre')"
      ],
      "metadata": {
        "id": "zw5oKndCU_qh"
      },
      "execution_count": 56,
      "outputs": []
    },
    {
      "cell_type": "code",
      "source": [
        "padded_input_sequences"
      ],
      "metadata": {
        "colab": {
          "base_uri": "https://localhost:8080/"
        },
        "id": "qI73_PblVGZv",
        "outputId": "f3070ee1-9df1-4326-ffa0-5c34c45438df"
      },
      "execution_count": 57,
      "outputs": [
        {
          "output_type": "execute_result",
          "data": {
            "text/plain": [
              "array([[   0,    0,    0, ...,    0,    1,  123],\n",
              "       [   0,    0,    0, ...,    1,  123,   11],\n",
              "       [   0,    0,    0, ...,  123,   11,  973],\n",
              "       ...,\n",
              "       [   0,    0,    0, ...,  570,   57,    8],\n",
              "       [   0,    0,    0, ...,   57,    8,    1],\n",
              "       [   0,    0,    0, ...,    8,    1, 2396]], dtype=int32)"
            ]
          },
          "metadata": {},
          "execution_count": 57
        }
      ]
    },
    {
      "cell_type": "code",
      "source": [
        "X=padded_input_sequences[:,:-1]\n",
        "y=padded_input_sequences[:,-1]"
      ],
      "metadata": {
        "id": "AkofXom_VIfB"
      },
      "execution_count": 58,
      "outputs": []
    },
    {
      "cell_type": "markdown",
      "source": [
        "Sence It is a Categotarical problem so OHE In output column\n"
      ],
      "metadata": {
        "id": "gwPRXZAzWEJ6"
      }
    },
    {
      "cell_type": "code",
      "source": [
        "from tensorflow.keras.utils import to_categorical\n",
        "y = to_categorical(y,num_classes=2397)"
      ],
      "metadata": {
        "id": "0SBmMfdxV-IC"
      },
      "execution_count": 59,
      "outputs": []
    },
    {
      "cell_type": "code",
      "source": [
        "X.shape"
      ],
      "metadata": {
        "colab": {
          "base_uri": "https://localhost:8080/"
        },
        "id": "7HpZCFZ3WvVR",
        "outputId": "51b39713-d07f-4660-c715-a0682e1be8bc"
      },
      "execution_count": 60,
      "outputs": [
        {
          "output_type": "execute_result",
          "data": {
            "text/plain": [
              "(7478, 44)"
            ]
          },
          "metadata": {},
          "execution_count": 60
        }
      ]
    },
    {
      "cell_type": "code",
      "source": [
        "y.shape"
      ],
      "metadata": {
        "colab": {
          "base_uri": "https://localhost:8080/"
        },
        "id": "RQp5XMgXW9jv",
        "outputId": "24b09d35-40c4-4901-f123-c8edbb1473bb"
      },
      "execution_count": 61,
      "outputs": [
        {
          "output_type": "execute_result",
          "data": {
            "text/plain": [
              "(7478, 2397)"
            ]
          },
          "metadata": {},
          "execution_count": 61
        }
      ]
    },
    {
      "cell_type": "code",
      "source": [
        "from sklearn.model_selection import train_test_split\n",
        "\n",
        "# Assuming X contains features and y contains target labels\n",
        "X_train, X_test, y_train, y_test = train_test_split(X, y, test_size=0.2, random_state=42)"
      ],
      "metadata": {
        "id": "Az9RD031WivS"
      },
      "execution_count": 62,
      "outputs": []
    },
    {
      "cell_type": "code",
      "source": [
        "max([len(x) for x in input_sequences])"
      ],
      "metadata": {
        "colab": {
          "base_uri": "https://localhost:8080/"
        },
        "id": "x61MJwZRXZDi",
        "outputId": "8562ee49-378b-4430-b31e-7046a952415a"
      },
      "execution_count": 63,
      "outputs": [
        {
          "output_type": "execute_result",
          "data": {
            "text/plain": [
              "45"
            ]
          },
          "metadata": {},
          "execution_count": 63
        }
      ]
    },
    {
      "cell_type": "code",
      "source": [
        "from tensorflow.keras.models import Sequential\n",
        "from tensorflow.keras.layers import Embedding, LSTM, Dense, Bidirectional, Dropout\n",
        "from tensorflow.keras.callbacks import EarlyStopping, ReduceLROnPlateau\n",
        "from tensorflow.keras.optimizers import Adam\n",
        "from tensorflow.keras.regularizers import l2  # ✅ Import l2 regularization\n",
        "\n",
        "# Define model\n",
        "model = Sequential()\n",
        "model.add(Embedding(2397, 100, input_length=45))  # Use pre-trained embeddings if possible\n",
        "model.add(Bidirectional(LSTM(100, return_sequences=True, kernel_regularizer=l2(0.01))))\n",
        "model.add(Dropout(0.3))\n",
        "model.add(Bidirectional(LSTM(100, kernel_regularizer=l2(0.01))))\n",
        "model.add(Dropout(0.3))\n",
        "model.add(Dense(2397, activation='softmax'))\n",
        "\n",
        "# Compile model with reduced learning rate\n",
        "model.compile(loss='categorical_crossentropy', optimizer=Adam(learning_rate=0.0005), metrics=['accuracy'])\n",
        "\n",
        "# Define Callbacks\n",
        "early_stopping = EarlyStopping(monitor='val_loss', patience=10, restore_best_weights=True)\n",
        "reduce_lr = ReduceLROnPlateau(monitor='val_loss', factor=0.2, patience=5, min_lr=0.0001)\n",
        "\n",
        "# Train the model\n",
        "history = model.fit(X_train, y_train,\n",
        "                    validation_data=(X_test, y_test),\n",
        "                    epochs=100,\n",
        "                    batch_size=128,\n",
        "                    callbacks=[early_stopping, reduce_lr])\n"
      ],
      "metadata": {
        "colab": {
          "base_uri": "https://localhost:8080/"
        },
        "id": "GV7smhggn9dc",
        "outputId": "2a8bf66b-c9c0-40c9-a7b1-36fbf70b0574"
      },
      "execution_count": 67,
      "outputs": [
        {
          "output_type": "stream",
          "name": "stdout",
          "text": [
            "Epoch 1/100\n",
            "\u001b[1m47/47\u001b[0m \u001b[32m━━━━━━━━━━━━━━━━━━━━\u001b[0m\u001b[37m\u001b[0m \u001b[1m37s\u001b[0m 596ms/step - accuracy: 0.0520 - loss: 14.8487 - val_accuracy: 0.0682 - val_loss: 10.9528 - learning_rate: 5.0000e-04\n",
            "Epoch 2/100\n",
            "\u001b[1m47/47\u001b[0m \u001b[32m━━━━━━━━━━━━━━━━━━━━\u001b[0m\u001b[37m\u001b[0m \u001b[1m41s\u001b[0m 595ms/step - accuracy: 0.0587 - loss: 10.0197 - val_accuracy: 0.0682 - val_loss: 8.7795 - learning_rate: 5.0000e-04\n",
            "Epoch 3/100\n",
            "\u001b[1m47/47\u001b[0m \u001b[32m━━━━━━━━━━━━━━━━━━━━\u001b[0m\u001b[37m\u001b[0m \u001b[1m40s\u001b[0m 578ms/step - accuracy: 0.0662 - loss: 8.0251 - val_accuracy: 0.0682 - val_loss: 7.7813 - learning_rate: 5.0000e-04\n",
            "Epoch 4/100\n",
            "\u001b[1m47/47\u001b[0m \u001b[32m━━━━━━━━━━━━━━━━━━━━\u001b[0m\u001b[37m\u001b[0m \u001b[1m28s\u001b[0m 601ms/step - accuracy: 0.0676 - loss: 7.0951 - val_accuracy: 0.0682 - val_loss: 7.3693 - learning_rate: 5.0000e-04\n",
            "Epoch 5/100\n",
            "\u001b[1m47/47\u001b[0m \u001b[32m━━━━━━━━━━━━━━━━━━━━\u001b[0m\u001b[37m\u001b[0m \u001b[1m39s\u001b[0m 539ms/step - accuracy: 0.0664 - loss: 6.6980 - val_accuracy: 0.0682 - val_loss: 7.2335 - learning_rate: 5.0000e-04\n",
            "Epoch 6/100\n",
            "\u001b[1m47/47\u001b[0m \u001b[32m━━━━━━━━━━━━━━━━━━━━\u001b[0m\u001b[37m\u001b[0m \u001b[1m41s\u001b[0m 555ms/step - accuracy: 0.0703 - loss: 6.5258 - val_accuracy: 0.0682 - val_loss: 7.2224 - learning_rate: 5.0000e-04\n",
            "Epoch 7/100\n",
            "\u001b[1m47/47\u001b[0m \u001b[32m━━━━━━━━━━━━━━━━━━━━\u001b[0m\u001b[37m\u001b[0m \u001b[1m42s\u001b[0m 584ms/step - accuracy: 0.0690 - loss: 6.4747 - val_accuracy: 0.0682 - val_loss: 7.1940 - learning_rate: 5.0000e-04\n",
            "Epoch 8/100\n",
            "\u001b[1m47/47\u001b[0m \u001b[32m━━━━━━━━━━━━━━━━━━━━\u001b[0m\u001b[37m\u001b[0m \u001b[1m40s\u001b[0m 567ms/step - accuracy: 0.0704 - loss: 6.4338 - val_accuracy: 0.0682 - val_loss: 7.2423 - learning_rate: 5.0000e-04\n",
            "Epoch 9/100\n",
            "\u001b[1m47/47\u001b[0m \u001b[32m━━━━━━━━━━━━━━━━━━━━\u001b[0m\u001b[37m\u001b[0m \u001b[1m41s\u001b[0m 553ms/step - accuracy: 0.0686 - loss: 6.4076 - val_accuracy: 0.0682 - val_loss: 7.2514 - learning_rate: 5.0000e-04\n",
            "Epoch 10/100\n",
            "\u001b[1m47/47\u001b[0m \u001b[32m━━━━━━━━━━━━━━━━━━━━\u001b[0m\u001b[37m\u001b[0m \u001b[1m41s\u001b[0m 561ms/step - accuracy: 0.0634 - loss: 6.4252 - val_accuracy: 0.0682 - val_loss: 7.3028 - learning_rate: 5.0000e-04\n",
            "Epoch 11/100\n",
            "\u001b[1m47/47\u001b[0m \u001b[32m━━━━━━━━━━━━━━━━━━━━\u001b[0m\u001b[37m\u001b[0m \u001b[1m41s\u001b[0m 566ms/step - accuracy: 0.0670 - loss: 6.3956 - val_accuracy: 0.0682 - val_loss: 7.3078 - learning_rate: 5.0000e-04\n",
            "Epoch 12/100\n",
            "\u001b[1m47/47\u001b[0m \u001b[32m━━━━━━━━━━━━━━━━━━━━\u001b[0m\u001b[37m\u001b[0m \u001b[1m41s\u001b[0m 566ms/step - accuracy: 0.0745 - loss: 6.3989 - val_accuracy: 0.0682 - val_loss: 7.3382 - learning_rate: 5.0000e-04\n",
            "Epoch 13/100\n",
            "\u001b[1m47/47\u001b[0m \u001b[32m━━━━━━━━━━━━━━━━━━━━\u001b[0m\u001b[37m\u001b[0m \u001b[1m26s\u001b[0m 566ms/step - accuracy: 0.0684 - loss: 6.4139 - val_accuracy: 0.0682 - val_loss: 7.3529 - learning_rate: 1.0000e-04\n",
            "Epoch 14/100\n",
            "\u001b[1m47/47\u001b[0m \u001b[32m━━━━━━━━━━━━━━━━━━━━\u001b[0m\u001b[37m\u001b[0m \u001b[1m41s\u001b[0m 554ms/step - accuracy: 0.0690 - loss: 6.3845 - val_accuracy: 0.0682 - val_loss: 7.3610 - learning_rate: 1.0000e-04\n",
            "Epoch 15/100\n",
            "\u001b[1m47/47\u001b[0m \u001b[32m━━━━━━━━━━━━━━━━━━━━\u001b[0m\u001b[37m\u001b[0m \u001b[1m41s\u001b[0m 564ms/step - accuracy: 0.0644 - loss: 6.4269 - val_accuracy: 0.0682 - val_loss: 7.3673 - learning_rate: 1.0000e-04\n",
            "Epoch 16/100\n",
            "\u001b[1m47/47\u001b[0m \u001b[32m━━━━━━━━━━━━━━━━━━━━\u001b[0m\u001b[37m\u001b[0m \u001b[1m26s\u001b[0m 555ms/step - accuracy: 0.0710 - loss: 6.3956 - val_accuracy: 0.0682 - val_loss: 7.3751 - learning_rate: 1.0000e-04\n",
            "Epoch 17/100\n",
            "\u001b[1m47/47\u001b[0m \u001b[32m━━━━━━━━━━━━━━━━━━━━\u001b[0m\u001b[37m\u001b[0m \u001b[1m41s\u001b[0m 565ms/step - accuracy: 0.0670 - loss: 6.4392 - val_accuracy: 0.0682 - val_loss: 7.3809 - learning_rate: 1.0000e-04\n"
          ]
        }
      ]
    },
    {
      "cell_type": "code",
      "source": [
        "import matplotlib.pyplot as plt\n",
        "\n",
        "# Plot Accuracy\n",
        "plt.plot(history.history['accuracy'], label='Train Accuracy')\n",
        "plt.plot(history.history['val_accuracy'], label='Validation Accuracy')\n",
        "plt.xlabel('Epochs')\n",
        "plt.ylabel('Accuracy')\n",
        "plt.legend()\n",
        "plt.show()"
      ],
      "metadata": {
        "colab": {
          "base_uri": "https://localhost:8080/",
          "height": 449
        },
        "id": "i-Oxwhoyo1R1",
        "outputId": "7ee729c0-a2fa-41c9-91a7-04fb49c3fa8f"
      },
      "execution_count": 68,
      "outputs": [
        {
          "output_type": "display_data",
          "data": {
            "text/plain": [
              "<Figure size 640x480 with 1 Axes>"
            ],
            "image/png": "[encoded data removed]"
          },
          "metadata": {}
        }
      ]
    },
    {
      "cell_type": "code",
      "source": [],
      "metadata": {
        "id": "siszAfTKrlQx"
      },
      "execution_count": null,
      "outputs": []
    }
  ],
  "metadata": {
    "colab": {
      "provenance": []
    },
    "kernelspec": {
      "display_name": "Python 3",
      "name": "python3"
    },
    "language_info": {
      "name": "python"
    }
  },
  "nbformat": 4,
  "nbformat_minor": 0
}